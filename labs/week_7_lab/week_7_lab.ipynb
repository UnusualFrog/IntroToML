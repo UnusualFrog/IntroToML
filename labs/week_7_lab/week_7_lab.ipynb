{
 "cells": [
  {
   "cell_type": "code",
   "execution_count": 3,
   "id": "32d24e88-8b62-47c4-b6da-714c534a6ac9",
   "metadata": {},
   "outputs": [],
   "source": [
    "# Load & split\n",
    "import pandas as pd\n",
    "from sklearn.model_selection import train_test_split\n",
    "df = pd.read_csv(\"week7_lab_binary.csv\")\n",
    "X = df.drop(columns=[\"label\"]).values\n",
    "y = df[\"label\"].values\n",
    "Xtr, Xte, ytr, yte = train_test_split(X, y, test_size=0.2, random_state=42, stratify=y)"
   ]
  },
  {
   "cell_type": "code",
   "execution_count": 7,
   "id": "ad4d9a30-69e5-4678-ba57-c9155b22289b",
   "metadata": {},
   "outputs": [
    {
     "name": "stdout",
     "output_type": "stream",
     "text": [
      "0.7375\n",
      "0.7741935483870968\n",
      "0.9230769230769231\n",
      "0.8421052631578947\n",
      "0.5553239863584691\n",
      "[[  9  49]\n",
      " [ 14 168]]\n"
     ]
    }
   ],
   "source": [
    "# k-NN (no scaling)\n",
    "from sklearn.neighbors import KNeighborsClassifier\n",
    "from sklearn.metrics import accuracy_score, precision_recall_fscore_support, roc_auc_score, confusion_matrix\n",
    "\n",
    "knn = KNeighborsClassifier(n_neighbors=5)\n",
    "knn.fit(Xtr, ytr)\n",
    "p = knn.predict(Xte)\n",
    "proba = knn.predict_proba(Xte)[:,1]\n",
    "acc = accuracy_score(yte, p)\n",
    "prec, rec, f1, _ = precision_recall_fscore_support(yte, p, average=\"binary\", zero_division=0)\n",
    "auc = roc_auc_score(yte, proba)\n",
    "cm = confusion_matrix(yte, p)\n",
    "print(acc, prec, rec, f1, auc, cm, sep=\"\\n\")"
   ]
  },
  {
   "cell_type": "code",
   "execution_count": 11,
   "id": "3fc148c2-6918-48b6-8ad8-9f2931b0b174",
   "metadata": {},
   "outputs": [
    {
     "name": "stdout",
     "output_type": "stream",
     "text": [
      "0.7375\n",
      "0.9247311827956989\n",
      "0.945054945054945\n",
      "0.9347826086956522\n",
      "0.5553239863584691\n",
      "[[ 44  14]\n",
      " [ 10 172]]\n"
     ]
    }
   ],
   "source": [
    "# k-NN with Standardization (use Pipeline)\n",
    "from sklearn.pipeline import Pipeline\n",
    "from sklearn.preprocessing import StandardScaler\n",
    "knn_scaled = Pipeline([\n",
    "(\"scaler\", StandardScaler()),\n",
    "(\"knn\", KNeighborsClassifier(n_neighbors=5))\n",
    "])\n",
    "knn_scaled.fit(Xtr, ytr)\n",
    "p2 = knn_scaled.predict(Xte)\n",
    "proba2 = knn_scaled.predict_proba(Xte)[:,1]\n",
    "\n",
    "prec, rec, f1, _ = precision_recall_fscore_support(yte, p2, average=\"binary\", zero_division=0)\n",
    "auc = roc_auc_score(yte, proba)\n",
    "cm = confusion_matrix(yte, p2)\n",
    "\n",
    "print(acc, prec, rec, f1, auc, cm, sep=\"\\n\")"
   ]
  },
  {
   "cell_type": "code",
   "execution_count": 14,
   "id": "d0108459-cf60-4707-9885-c8f5202954a7",
   "metadata": {},
   "outputs": [
    {
     "name": "stdout",
     "output_type": "stream",
     "text": [
      "0.7375\n",
      "0.9109947643979057\n",
      "0.9560439560439561\n",
      "0.9329758713136729\n",
      "0.9673171655930277\n",
      "[[ 41  17]\n",
      " [  8 174]]\n"
     ]
    }
   ],
   "source": [
    "# Logistic Regression (with/without scaling)\n",
    "from sklearn.linear_model import LogisticRegression\n",
    "lr = LogisticRegression(max_iter=200)\n",
    "lr.fit(Xtr, ytr); p = lr.predict(Xte); proba = lr.predict_proba(Xte)[:,1]\n",
    "lr_scaled = Pipeline([\n",
    "(\"scaler\", StandardScaler()),\n",
    "(\"lr\", LogisticRegression(max_iter=200))\n",
    "])\n",
    "lr_scaled.fit(Xtr, ytr); p2 = lr_scaled.predict(Xte); proba2 = lr_scaled.predict_proba(Xte)\n",
    "\n",
    "prec, rec, f1, _ = precision_recall_fscore_support(yte, p2, average=\"binary\", zero_division=0)\n",
    "auc = roc_auc_score(yte, proba)\n",
    "cm = confusion_matrix(yte, p2)\n",
    "\n",
    "print(acc, prec, rec, f1, auc, cm, sep=\"\\n\")"
   ]
  },
  {
   "cell_type": "code",
   "execution_count": 15,
   "id": "36235905-ffe8-4563-bd40-c421fe6c62c6",
   "metadata": {},
   "outputs": [
    {
     "name": "stdout",
     "output_type": "stream",
     "text": [
      "0.7375\n",
      "0.8961748633879781\n",
      "0.9010989010989011\n",
      "0.8986301369863013\n",
      "0.9673171655930277\n",
      "[[ 39  19]\n",
      " [ 18 164]]\n"
     ]
    }
   ],
   "source": [
    "# Decision Tree (scaling not needed)\n",
    "from sklearn.tree import DecisionTreeClassifier\n",
    "dt = DecisionTreeClassifier(random_state=42)\n",
    "dt.fit(Xtr, ytr)\n",
    "p2 = dt.predict(Xte)\n",
    "\n",
    "prec, rec, f1, _ = precision_recall_fscore_support(yte, p2, average=\"binary\", zero_division=0)\n",
    "auc = roc_auc_score(yte, proba)\n",
    "cm = confusion_matrix(yte, p2)\n",
    "\n",
    "print(acc, prec, rec, f1, auc, cm, sep=\"\\n\")"
   ]
  },
  {
   "cell_type": "code",
   "execution_count": null,
   "id": "d8934dbe-dbad-4545-a95e-9df3da014df4",
   "metadata": {},
   "outputs": [],
   "source": []
  }
 ],
 "metadata": {
  "kernelspec": {
   "display_name": "Python 3 (ipykernel)",
   "language": "python",
   "name": "python3"
  },
  "language_info": {
   "codemirror_mode": {
    "name": "ipython",
    "version": 3
   },
   "file_extension": ".py",
   "mimetype": "text/x-python",
   "name": "python",
   "nbconvert_exporter": "python",
   "pygments_lexer": "ipython3",
   "version": "3.12.7"
  }
 },
 "nbformat": 4,
 "nbformat_minor": 5
}
