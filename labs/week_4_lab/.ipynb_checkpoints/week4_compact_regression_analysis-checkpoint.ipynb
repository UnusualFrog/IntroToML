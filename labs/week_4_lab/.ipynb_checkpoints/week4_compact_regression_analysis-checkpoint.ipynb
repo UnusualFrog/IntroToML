{
 "cells": [
  {
   "cell_type": "markdown",
   "id": "ab46abae",
   "metadata": {},
   "source": [
    "# Week 4 — Compact Regression Analysis\n",
    "Minimal, readable code: load → baseline → find outliers → handle → refit."
   ]
  },
  {
   "cell_type": "code",
   "execution_count": 2,
   "id": "bb16524c",
   "metadata": {},
   "outputs": [
    {
     "data": {
      "text/plain": [
       "(   feature1  feature2  feature3   target\n",
       " 0    62.143  1049.160    -1.062  236.259\n",
       " 1    35.671    29.771    -0.529   86.480\n",
       " 2    68.829  1497.475    -0.877  301.332\n",
       " 3    56.092   682.589    -0.094  202.900\n",
       " 4     8.440   467.033    -1.758   73.240,\n",
       " (120, 4))"
      ]
     },
     "execution_count": 2,
     "metadata": {},
     "output_type": "execute_result"
    }
   ],
   "source": [
    "\n",
    "import pandas as pd, numpy as np\n",
    "import matplotlib.pyplot as plt\n",
    "import statsmodels.api as sm\n",
    "\n",
    "path = 'dataset_for-week_4_materials.csv'\n",
    "df = pd.read_csv(path)\n",
    "df.head(), df.shape\n"
   ]
  },
  {
   "cell_type": "code",
   "execution_count": null,
   "id": "f83a869f",
   "metadata": {},
   "outputs": [],
   "source": [
    "\n",
    "def fitX(Xcols, data=None):\n",
    "    d = df if data is None else data\n",
    "    X = sm.add_constant(d[Xcols]); y = d['target']\n",
    "    m = sm.OLS(y, X).fit()\n",
    "    rmse = np.sqrt(((m.fittedvalues - y)**2).mean())\n",
    "    return m, rmse\n",
    "\n",
    "m1, rmse1 = fitX(['feature1'])          # simple\n",
    "m2, rmse2 = fitX(['feature1','feature2'])  # better (captures curvature)\n",
    "print({'simple_R2': round(m1.rsquared,3),'simple_RMSE': round(rmse1,2),\n",
    "       'multi_R2': round(m2.rsquared,3),'multi_RMSE': round(rmse2,2)})\n"
   ]
  },
  {
   "cell_type": "code",
   "execution_count": null,
   "id": "f3f50b03",
   "metadata": {},
   "outputs": [],
   "source": [
    "\n",
    "plt.figure(figsize=(5,4))\n",
    "plt.scatter(m2.fittedvalues, m2.resid)\n",
    "plt.axhline(0, linestyle='--')\n",
    "plt.xlabel('Fitted'); plt.ylabel('Residuals'); plt.title('Residuals (before handling outliers)')\n",
    "plt.show()\n"
   ]
  },
  {
   "cell_type": "code",
   "execution_count": null,
   "id": "b851b251",
   "metadata": {},
   "outputs": [],
   "source": [
    "\n",
    "infl = m2.get_influence()\n",
    "cooks = infl.cooks_distance[0]\n",
    "thr = 4/len(df)  # common rule of thumb\n",
    "out_idx = np.where(cooks > thr)[0]\n",
    "print('Threshold:', round(thr,4), ' | n_outliers:', len(out_idx), '\\nIndices:', out_idx.tolist())\n",
    "df.loc[out_idx].head()\n"
   ]
  },
  {
   "cell_type": "code",
   "execution_count": null,
   "id": "16539ad0",
   "metadata": {},
   "outputs": [],
   "source": [
    "\n",
    "df_clean = df.drop(index=out_idx)\n",
    "m3, rmse3 = fitX(['feature1','feature2'], data=df_clean)\n",
    "print({'clean_R2': round(m3.rsquared,3), 'clean_RMSE': round(rmse3,2), 'rows_removed': len(out_idx)})\n"
   ]
  },
  {
   "cell_type": "code",
   "execution_count": null,
   "id": "ecc81302",
   "metadata": {},
   "outputs": [],
   "source": [
    "\n",
    "plt.figure(figsize=(5,4))\n",
    "plt.scatter(m3.fittedvalues, df_clean['target']-m3.fittedvalues)\n",
    "plt.axhline(0, linestyle='--')\n",
    "plt.xlabel('Fitted'); plt.ylabel('Residuals'); plt.title('Residuals (after handling outliers)')\n",
    "plt.show()\n"
   ]
  },
  {
   "cell_type": "code",
   "execution_count": null,
   "id": "ad00412e",
   "metadata": {},
   "outputs": [],
   "source": [
    "\n",
    "df_clean = df_clean.assign(f12 = np.sqrt(np.maximum(df_clean['feature2'],0))*df_clean['feature1'] )\n",
    "m4, rmse4 = fitX(['feature1','feature2','f12'], data=df_clean)\n",
    "print({'with_interaction_R2': round(m4.rsquared,3), 'with_interaction_RMSE': round(rmse4,2)})\n",
    "m4.params.round(3)\n"
   ]
  }
 ],
 "metadata": {
  "kernelspec": {
   "display_name": "Python 3 (ipykernel)",
   "language": "python",
   "name": "python3"
  },
  "language_info": {
   "codemirror_mode": {
    "name": "ipython",
    "version": 3
   },
   "file_extension": ".py",
   "mimetype": "text/x-python",
   "name": "python",
   "nbconvert_exporter": "python",
   "pygments_lexer": "ipython3",
   "version": "3.12.3"
  }
 },
 "nbformat": 4,
 "nbformat_minor": 5
}
